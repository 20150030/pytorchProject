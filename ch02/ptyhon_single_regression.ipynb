{
 "cells": [
  {
   "cell_type": "markdown",
   "metadata": {},
   "source": [
    "python_single_regression.ipynb"
   ]
  },
  {
   "cell_type": "code",
   "execution_count": 1,
   "metadata": {},
   "outputs": [],
   "source": [
    "import numpy as np"
   ]
  },
  {
   "cell_type": "code",
   "execution_count": 2,
   "metadata": {},
   "outputs": [
    {
     "name": "stdout",
     "output_type": "stream",
     "text": [
      "[[1]\n",
      " [2]\n",
      " [3]\n",
      " [4]\n",
      " [5]]\n",
      "[[ 3]\n",
      " [ 5]\n",
      " [ 7]\n",
      " [ 9]\n",
      " [11]]\n"
     ]
    }
   ],
   "source": [
    "x_data1=np.array([1,2,3,4,5]).reshape(5,1)\n",
    "t_data1=np.array([3,5,7,9,11]).reshape(5,1)    #w=2, b=1\n",
    "print(x_data1)\n",
    "print(t_data1)"
   ]
  },
  {
   "cell_type": "code",
   "execution_count": 3,
   "metadata": {},
   "outputs": [
    {
     "name": "stdout",
     "output_type": "stream",
     "text": [
      "[[0.00814002]]\n",
      "[0.15248488]\n"
     ]
    }
   ],
   "source": [
    "w=np.random.rand(1,1)\n",
    "b=np.random.rand(1)\n",
    "print(w)\n",
    "print(b)"
   ]
  },
  {
   "cell_type": "code",
   "execution_count": 4,
   "metadata": {},
   "outputs": [],
   "source": [
    "#손실함수\n",
    "def loss_func1(x,t):\n",
    "  y=np.dot(x,w)+b #dot=행렬의 곱\n",
    "\n",
    "  return (np.sum(t-y)**2)/(len(x)) #MSE"
   ]
  },
  {
   "cell_type": "code",
   "execution_count": null,
   "metadata": {},
   "outputs": [],
   "source": []
  }
 ],
 "metadata": {
  "kernelspec": {
   "display_name": "Python 3.12.8 ('pytorchtest')",
   "language": "python",
   "name": "python3"
  },
  "language_info": {
   "codemirror_mode": {
    "name": "ipython",
    "version": 3
   },
   "file_extension": ".py",
   "mimetype": "text/x-python",
   "name": "python",
   "nbconvert_exporter": "python",
   "pygments_lexer": "ipython3",
   "version": "3.12.8"
  },
  "orig_nbformat": 4,
  "vscode": {
   "interpreter": {
    "hash": "2e473da0440022a3b9533296b86af0c6bf3963b38d184c0e31ca2ce5e4d2e295"
   }
  }
 },
 "nbformat": 4,
 "nbformat_minor": 2
}
