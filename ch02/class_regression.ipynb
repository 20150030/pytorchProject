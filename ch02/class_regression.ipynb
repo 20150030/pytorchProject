{
 "cells": [
  {
   "cell_type": "code",
   "execution_count": 1,
   "metadata": {},
   "outputs": [],
   "source": [
    "import torch\n",
    "import torch.nn as nn\n",
    "import torch.nn.functional as F\n",
    "import torch.optim as optim\n",
    "import numpy as np"
   ]
  },
  {
   "cell_type": "code",
   "execution_count": 2,
   "metadata": {},
   "outputs": [],
   "source": [
    "torch.manual_seed(1)\n",
    "x_data=torch.FloatTensor([[1],[2],[3],[4],[5]])\n",
    "t_data=torch.FloatTensor([[3],[5],[7],[9],[11]])"
   ]
  },
  {
   "cell_type": "code",
   "execution_count": 3,
   "metadata": {},
   "outputs": [],
   "source": [
    "class LinearRegressionModel(nn.Module):\n",
    "  def __init__(self):\n",
    "    super().__init__()\n",
    "    self.linear=nn.Linear(1,1)\n",
    "  def forward(self,x):\n",
    "    return self.linear(x)"
   ]
  },
  {
   "cell_type": "code",
   "execution_count": 6,
   "metadata": {},
   "outputs": [
    {
     "name": "stdout",
     "output_type": "stream",
     "text": [
      "LinearRegressionModel(\n",
      "  (linear): Linear(in_features=1, out_features=1, bias=True)\n",
      ")\n"
     ]
    }
   ],
   "source": [
    "model=LinearRegressionModel()\n",
    "print(model)\n",
    "optimizer=optim.SGD(model.parameters(),lr=0.01)"
   ]
  },
  {
   "cell_type": "code",
   "execution_count": 7,
   "metadata": {},
   "outputs": [
    {
     "name": "stdout",
     "output_type": "stream",
     "text": [
      "0 102.39723205566406 [Parameter containing:\n",
      "tensor([[-0.2703]], requires_grad=True), Parameter containing:\n",
      "tensor([0.7842], requires_grad=True)]\n",
      "100 0.013698798604309559 [Parameter containing:\n",
      "tensor([[1.9243]], requires_grad=True), Parameter containing:\n",
      "tensor([1.2734], requires_grad=True)]\n",
      "200 0.006958608515560627 [Parameter containing:\n",
      "tensor([[1.9460]], requires_grad=True), Parameter containing:\n",
      "tensor([1.1949], requires_grad=True)]\n",
      "300 0.0035347312223166227 [Parameter containing:\n",
      "tensor([[1.9615]], requires_grad=True), Parameter containing:\n",
      "tensor([1.1389], requires_grad=True)]\n",
      "400 0.001795515650883317 [Parameter containing:\n",
      "tensor([[1.9726]], requires_grad=True), Parameter containing:\n",
      "tensor([1.0990], requires_grad=True)]\n",
      "500 0.000912061776034534 [Parameter containing:\n",
      "tensor([[1.9805]], requires_grad=True), Parameter containing:\n",
      "tensor([1.0705], requires_grad=True)]\n",
      "600 0.00046330917393788695 [Parameter containing:\n",
      "tensor([[1.9861]], requires_grad=True), Parameter containing:\n",
      "tensor([1.0503], requires_grad=True)]\n",
      "700 0.0002353415620746091 [Parameter containing:\n",
      "tensor([[1.9901]], requires_grad=True), Parameter containing:\n",
      "tensor([1.0358], requires_grad=True)]\n",
      "800 0.00011954351793974638 [Parameter containing:\n",
      "tensor([[1.9929]], requires_grad=True), Parameter containing:\n",
      "tensor([1.0255], requires_grad=True)]\n",
      "900 6.072293035686016e-05 [Parameter containing:\n",
      "tensor([[1.9950]], requires_grad=True), Parameter containing:\n",
      "tensor([1.0182], requires_grad=True)]\n",
      "1000 3.0845632863929495e-05 [Parameter containing:\n",
      "tensor([[1.9964]], requires_grad=True), Parameter containing:\n",
      "tensor([1.0130], requires_grad=True)]\n",
      "1100 1.5671857909183018e-05 [Parameter containing:\n",
      "tensor([[1.9974]], requires_grad=True), Parameter containing:\n",
      "tensor([1.0092], requires_grad=True)]\n",
      "1200 7.960746188473422e-06 [Parameter containing:\n",
      "tensor([[1.9982]], requires_grad=True), Parameter containing:\n",
      "tensor([1.0066], requires_grad=True)]\n",
      "1300 4.0442523641104344e-06 [Parameter containing:\n",
      "tensor([[1.9987]], requires_grad=True), Parameter containing:\n",
      "tensor([1.0047], requires_grad=True)]\n",
      "1400 2.054185870292713e-06 [Parameter containing:\n",
      "tensor([[1.9991]], requires_grad=True), Parameter containing:\n",
      "tensor([1.0033], requires_grad=True)]\n",
      "1500 1.0439705420139944e-06 [Parameter containing:\n",
      "tensor([[1.9993]], requires_grad=True), Parameter containing:\n",
      "tensor([1.0024], requires_grad=True)]\n",
      "1600 5.303873535922321e-07 [Parameter containing:\n",
      "tensor([[1.9995]], requires_grad=True), Parameter containing:\n",
      "tensor([1.0017], requires_grad=True)]\n",
      "1700 2.6946386810777767e-07 [Parameter containing:\n",
      "tensor([[1.9997]], requires_grad=True), Parameter containing:\n",
      "tensor([1.0012], requires_grad=True)]\n",
      "1800 1.368892270647848e-07 [Parameter containing:\n",
      "tensor([[1.9998]], requires_grad=True), Parameter containing:\n",
      "tensor([1.0009], requires_grad=True)]\n",
      "1900 6.960141263334663e-08 [Parameter containing:\n",
      "tensor([[1.9998]], requires_grad=True), Parameter containing:\n",
      "tensor([1.0006], requires_grad=True)]\n",
      "2000 3.53864848534613e-08 [Parameter containing:\n",
      "tensor([[1.9999]], requires_grad=True), Parameter containing:\n",
      "tensor([1.0004], requires_grad=True)]\n"
     ]
    }
   ],
   "source": [
    "epochs=2001\n",
    "\n",
    "for epoch in range(epochs):\n",
    "  y=model(x_data)\n",
    "  cost=F.mse_loss(y,t_data)\n",
    "\n",
    "  optimizer.zero_grad()\n",
    "  cost.backward()\n",
    "  optimizer.step()\n",
    "\n",
    "  if epoch%100==0:\n",
    "    print(epoch, cost.item(),list(model.parameters()))"
   ]
  },
  {
   "cell_type": "code",
   "execution_count": 9,
   "metadata": {},
   "outputs": [
    {
     "name": "stdout",
     "output_type": "stream",
     "text": [
      "tensor([14.9996], grad_fn=<ViewBackward0>)\n"
     ]
    }
   ],
   "source": [
    "print(model(torch.FloatTensor([7])))"
   ]
  },
  {
   "cell_type": "code",
   "execution_count": 18,
   "metadata": {},
   "outputs": [
    {
     "name": "stdout",
     "output_type": "stream",
     "text": [
      "(25, 3) (25,)\n",
      "(25, 3) (25, 1)\n",
      "<class 'numpy.ndarray'> <class 'numpy.ndarray'>\n",
      "<class 'torch.Tensor'> <class 'torch.Tensor'>\n",
      "3\n"
     ]
    }
   ],
   "source": [
    "#data활용\n",
    "import pandas as pd\n",
    "df=pd.read_csv('../data/data-01-test-score.csv', header=None)\n",
    "x_data=df.values[:,:-1]\n",
    "t_data=df.values[:,-1]\n",
    "print(x_data.shape, t_data.shape)\n",
    "t_data=t_data.reshape(-1, 1)\n",
    "print(x_data.shape, t_data.shape)\n",
    "print(type(x_data), type(t_data))\n",
    "\n",
    "x_data1=torch.from_numpy(x_data)\n",
    "t_data1=torch.from_numpy(t_data)\n",
    "print(type(x_data1), type(t_data1))\n",
    "\n",
    "indim=x_data1.size(1)\n",
    "print(indim)\n",
    "\n",
    "\n"
   ]
  },
  {
   "cell_type": "code",
   "execution_count": 21,
   "metadata": {},
   "outputs": [],
   "source": [
    "class MultiLinearRegressionModel(nn.Module):\n",
    "    def __init__(self):\n",
    "        super().__init__()\n",
    "        self.linear=nn.Linear(indim,1)\n",
    "\n",
    "    def forward(self, x):\n",
    "        return self.linear(x)"
   ]
  },
  {
   "cell_type": "code",
   "execution_count": null,
   "metadata": {},
   "outputs": [],
   "source": []
  }
 ],
 "metadata": {
  "kernelspec": {
   "display_name": "Python 3.12.8 ('pytorchtest')",
   "language": "python",
   "name": "python3"
  },
  "language_info": {
   "codemirror_mode": {
    "name": "ipython",
    "version": 3
   },
   "file_extension": ".py",
   "mimetype": "text/x-python",
   "name": "python",
   "nbconvert_exporter": "python",
   "pygments_lexer": "ipython3",
   "version": "3.12.8"
  },
  "orig_nbformat": 4,
  "vscode": {
   "interpreter": {
    "hash": "2e473da0440022a3b9533296b86af0c6bf3963b38d184c0e31ca2ce5e4d2e295"
   }
  }
 },
 "nbformat": 4,
 "nbformat_minor": 2
}
