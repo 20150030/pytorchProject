{
 "cells": [
  {
   "cell_type": "code",
   "execution_count": 1,
   "metadata": {},
   "outputs": [],
   "source": [
    "import torch\n",
    "import torch.nn as nn\n",
    "import numpy as np\n",
    "from PIL import Image\n",
    "from torchvision import transforms\n",
    "from torchvision.datasets import ImageFolder\n",
    "from torch.utils.data import DataLoader, TensorDataset\n",
    "from torchvision.utils import save_image\n",
    "import matplotlib.pyplot as plt\n",
    "\n",
    "#from google.colab import drive \n",
    "# #구글 드라이브 연결 라이브러리"
   ]
  },
  {
   "cell_type": "code",
   "execution_count": null,
   "metadata": {},
   "outputs": [],
   "source": [
    "#frive.mount('/content/drive')\n",
    "# #구글 드라이브 연결"
   ]
  },
  {
   "cell_type": "code",
   "execution_count": 2,
   "metadata": {},
   "outputs": [],
   "source": [
    "torch.manual_seed(777)\n",
    "IMAGE_SIZE=128 #이미지 크기 통일\n",
    "\n",
    "device='cuda' if torch.cuda.is_available() else 'cpu'\n",
    "if device=='cuda':\n",
    "  torch.cuda.manual_seed_all(777)"
   ]
  },
  {
   "cell_type": "code",
   "execution_count": 3,
   "metadata": {},
   "outputs": [],
   "source": [
    "original_datasets=ImageFolder(root='flower_photos/',\n",
    "                              transform=transforms.Compose([\n",
    "                                transforms.Resize((IMAGE_SIZE,IMAGE_SIZE)),\n",
    "                                transforms.ToTensor()\n",
    "                              ]))"
   ]
  },
  {
   "cell_type": "code",
   "execution_count": 4,
   "metadata": {},
   "outputs": [
    {
     "name": "stdout",
     "output_type": "stream",
     "text": [
      "Dataset ImageFolder\n",
      "    Number of datapoints: 2313\n",
      "    Root location: flower_photos/\n",
      "    StandardTransform\n",
      "Transform: Compose(\n",
      "               Resize(size=(128, 128), interpolation=bilinear, max_size=None, antialias=True)\n",
      "               ToTensor()\n",
      "           )\n"
     ]
    }
   ],
   "source": [
    "print(original_datasets)"
   ]
  },
  {
   "cell_type": "code",
   "execution_count": 5,
   "metadata": {},
   "outputs": [],
   "source": [
    "original_loader=DataLoader(original_datasets,batch_size=100,shuffle=True,num_workers=1)"
   ]
  },
  {
   "cell_type": "code",
   "execution_count": 7,
   "metadata": {},
   "outputs": [
    {
     "name": "stdout",
     "output_type": "stream",
     "text": [
      "torch.Size([100, 3, 128, 128]) torch.Size([100])\n",
      "torch.Size([100, 3, 128, 128]) torch.Size([100])\n",
      "torch.Size([100, 3, 128, 128]) torch.Size([100])\n",
      "torch.Size([100, 3, 128, 128]) torch.Size([100])\n",
      "torch.Size([100, 3, 128, 128]) torch.Size([100])\n",
      "torch.Size([100, 3, 128, 128]) torch.Size([100])\n",
      "torch.Size([100, 3, 128, 128]) torch.Size([100])\n",
      "torch.Size([100, 3, 128, 128]) torch.Size([100])\n",
      "torch.Size([100, 3, 128, 128]) torch.Size([100])\n",
      "torch.Size([100, 3, 128, 128]) torch.Size([100])\n",
      "torch.Size([100, 3, 128, 128]) torch.Size([100])\n",
      "torch.Size([100, 3, 128, 128]) torch.Size([100])\n",
      "torch.Size([100, 3, 128, 128]) torch.Size([100])\n",
      "torch.Size([100, 3, 128, 128]) torch.Size([100])\n",
      "torch.Size([100, 3, 128, 128]) torch.Size([100])\n",
      "torch.Size([100, 3, 128, 128]) torch.Size([100])\n",
      "torch.Size([100, 3, 128, 128]) torch.Size([100])\n",
      "torch.Size([100, 3, 128, 128]) torch.Size([100])\n",
      "torch.Size([100, 3, 128, 128]) torch.Size([100])\n",
      "torch.Size([100, 3, 128, 128]) torch.Size([100])\n",
      "torch.Size([100, 3, 128, 128]) torch.Size([100])\n",
      "torch.Size([100, 3, 128, 128]) torch.Size([100])\n",
      "torch.Size([100, 3, 128, 128]) torch.Size([100])\n",
      "torch.Size([13, 3, 128, 128]) torch.Size([13])\n"
     ]
    }
   ],
   "source": [
    "for X,Y in original_loader:\n",
    "  print(X.size(),Y.size())"
   ]
  }
 ],
 "metadata": {
  "kernelspec": {
   "display_name": "Python 3.12.8 ('pytorchtest')",
   "language": "python",
   "name": "python3"
  },
  "language_info": {
   "codemirror_mode": {
    "name": "ipython",
    "version": 3
   },
   "file_extension": ".py",
   "mimetype": "text/x-python",
   "name": "python",
   "nbconvert_exporter": "python",
   "pygments_lexer": "ipython3",
   "version": "3.12.8"
  },
  "orig_nbformat": 4,
  "vscode": {
   "interpreter": {
    "hash": "2e473da0440022a3b9533296b86af0c6bf3963b38d184c0e31ca2ce5e4d2e295"
   }
  }
 },
 "nbformat": 4,
 "nbformat_minor": 2
}
